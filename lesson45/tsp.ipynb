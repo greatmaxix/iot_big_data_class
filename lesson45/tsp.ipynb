{
 "cells": [
  {
   "cell_type": "code",
   "execution_count": 80,
   "metadata": {},
   "outputs": [
    {
     "name": "stdout",
     "output_type": "stream",
     "text": [
      "Len of costs:  210\n",
      "Actual min:  6.0\n",
      "Selected route cost 8.0\n"
     ]
    }
   ],
   "source": [
    "from math import dist, exp, sqrt\n",
    "from matplotlib import pyplot as plt\n",
    "import random\n",
    "\n",
    "cities = [(0, 0), (0, 1), (1, 0), (1, 1), (2, 0), (2, 1)]\n",
    "\n",
    "def random_walk(cities):\n",
    "    tour = cities[:]\n",
    "    random.shuffle(tour)\n",
    "    return tour\n",
    "\n",
    "def distance(a, b):\n",
    "    return sqrt((a[0] - b[0])**2 + (a[1] - b[1])**2) \n",
    "\n",
    "def calc_cost(tour):\n",
    "    cost = 0\n",
    "    for i in range(len(tour)):\n",
    "        cost += distance(tour[i], tour[(i + 1) % len(tour)])\n",
    "    return cost\n",
    "\n",
    "def metropolicCriterion(noImprIters = 20):\n",
    "    tempH = 100\n",
    "    tempL = 0.01\n",
    "    temp = tempH\n",
    "\n",
    "    currentSol = random_walk(cities)\n",
    "    costs = []\n",
    "\n",
    "    numOfIters = 0\n",
    "\n",
    "    while temp > tempL and numOfIters < noImprIters:\n",
    "        nextSol = random_walk(cities)\n",
    "        constCurr = calc_cost(currentSol)\n",
    "        costNext = calc_cost(nextSol)\n",
    "        costs.append(costNext)\n",
    "\n",
    "        prob = exp((constCurr - costNext) / tempH)\n",
    "        N = random.randint(1, 100) * 0.01\n",
    "\n",
    "        if costNext < constCurr:\n",
    "            currentSol = nextSol\n",
    "        elif prob > N:\n",
    "            currentSol = nextSol\n",
    "        else:\n",
    "            numOfIters += 1\n",
    "\n",
    "        tempH *= 0.99\n",
    "    \n",
    "    return currentSol, costs\n",
    "\n",
    "sol, costs = metropolicCriterion(5)\n",
    "\n",
    "print(\"Len of costs: \", len(costs))\n",
    "print(\"Actual min: \", min(costs))\n",
    "print(\"Selected route cost\", calc_cost(sol))"
   ]
  }
 ],
 "metadata": {
  "kernelspec": {
   "display_name": "Python 3.8.10 64-bit",
   "language": "python",
   "name": "python3"
  },
  "language_info": {
   "codemirror_mode": {
    "name": "ipython",
    "version": 3
   },
   "file_extension": ".py",
   "mimetype": "text/x-python",
   "name": "python",
   "nbconvert_exporter": "python",
   "pygments_lexer": "ipython3",
   "version": "3.8.10"
  },
  "orig_nbformat": 4,
  "vscode": {
   "interpreter": {
    "hash": "767d51c1340bd893661ea55ea3124f6de3c7a262a8b4abca0554b478b1e2ff90"
   }
  }
 },
 "nbformat": 4,
 "nbformat_minor": 2
}
